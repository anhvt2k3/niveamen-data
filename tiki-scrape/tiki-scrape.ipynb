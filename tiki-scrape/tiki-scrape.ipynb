{
 "cells": [
  {
   "cell_type": "code",
   "execution_count": 2,
   "metadata": {},
   "outputs": [],
   "source": [
    "import requests\n",
    "from pydantic import BaseModel\n",
    "from datetime import datetime\n",
    "from typing import Optional\n",
    "\n",
    "class RawProduct(BaseModel):\n",
    "    platform: str = 'tiki'\n",
    "    id: int | None\n",
    "    name: str | None\n",
    "    sale: int | None\n",
    "    price: float | None\n",
    "    shop_name: str | None\n",
    "    shop_id: int | None\n",
    "    unite_id: int = None\n",
    "    brand_name: str | None\n",
    "    timestamp: float | None"
   ]
  },
  {
   "cell_type": "code",
   "execution_count": 3,
   "metadata": {},
   "outputs": [],
   "source": [
    "#! SETUP SESSION\n",
    "\n",
    "session = requests.Session()\n",
    "session.headers.update(\n",
    "    {\n",
    "'accept': 'text/html,application/xhtml+xml,application/xml;q=0.9,image/avif,image/webp,image/apng,*/*;q=0.8,application/signed-exchange;v=b3;q=0.7',\n",
    "'accept-encoding': 'gzip, deflate, br, zstd',\n",
    "'accept-language': 'en-US,en;q=0.9,vi-VN;q=0.8,vi;q=0.7,fr;q=0.6',\n",
    "'cache-control': 'max-age=0',\n",
    "'priority': 'u=0, i',\n",
    "'sec-ch-ua': '\"Google Chrome\";v=\"129\", \"Not=A?Brand\";v=\"8\", \"Chromium\";v=\"129\"',\n",
    "'sec-ch-ua-mobile': '?0',\n",
    "'sec-ch-ua-platform': '\"Windows\"',\n",
    "'sec-fetch-dest': 'document',\n",
    "'sec-fetch-mode': 'navigate',\n",
    "'sec-fetch-site': 'none',\n",
    "'sec-fetch-user': '?1',\n",
    "'upgrade-insecure-requests': '1',\n",
    "'user-agent': 'Mozilla/5.0 (Windows NT 10.0; Win64; x64) AppleWebKit/537.36 (KHTML, like Gecko) Chrome/129.0.0.0 Safari/537.36',\n",
    "    })"
   ]
  },
  {
   "cell_type": "code",
   "execution_count": 4,
   "metadata": {},
   "outputs": [],
   "source": [
    "#! DEFINING SCRAPING FUNCTIONS\n",
    "import json\n",
    "import csv\n",
    "\n",
    "fout = open('data.csv',mode='w', errors=\"ignore\",newline='')\n",
    "writer = csv.DictWriter(\n",
    "                        fout,\n",
    "                        RawProduct.model_fields)\n",
    "log = open('data.json', mode='w+')\n",
    "\n",
    "def init_data():\n",
    "    writer.writeheader()\n",
    "    \n",
    "def append_to_log(data):\n",
    "    log.write(log.read() + json.dumps(data, indent=4))\n",
    "\n",
    "def scrape_at_url(url):\n",
    "    response = session.get(url=url)\n",
    "    json_content = json.loads(response.content.decode())\n",
    "    append_to_log(json_content)\n",
    "    products = json_content['data']\n",
    "    products_ = []\n",
    "    try:\n",
    "        for product in products:\n",
    "            products_ += [RawProduct(\n",
    "                        id=product.get('id', None),\n",
    "                        name=product.get('url_key', None),\n",
    "                        sale=product['visible_impression_info']['amplitude'].get('all_time_quantity_sold', None),\n",
    "                        price=product.get('price', None),\n",
    "                        # unite_id=None,\n",
    "                        shop_name=product.get('seller_name', None),\n",
    "                        shop_id=product.get('seller_id', None),\n",
    "                        brand_name=product.get('brand_name', 'NaN'),\n",
    "                        timestamp=datetime.now().timestamp()\n",
    "                ).model_dump()]\n",
    "    except Exception as e :\n",
    "        print (product)\n",
    "        print (str(e))\n",
    "        return []\n",
    "    return products_\n",
    "    \n",
    "def export_to_file(products: list[dict[str, any]]):\n",
    "    writer.writerows(products)\n",
    "    \n",
    "def close_files():\n",
    "    log.close()\n",
    "    fout.close()\n",
    "    \n",
    "init_data()"
   ]
  },
  {
   "cell_type": "code",
   "execution_count": 5,
   "metadata": {},
   "outputs": [],
   "source": [
    "#! GO SCRAPING\n",
    "\n",
    "# baseURL = \"https://tiki.vn/api/v2/products?limit=40&aggregations=2&trackity_id=55e38373-3402-501c-3da5-7a4f96edd60d&q=niveamen&page=\"\n",
    "# prods = scrape_at_url(baseURL+str(1))\n",
    "products = []\n",
    "for i in range(1,12):\n",
    "    baseURL = \"https://tiki.vn/api/v2/products?limit=40&aggregations=2&trackity_id=55e38373-3402-501c-3da5-7a4f96edd60d&q=niveamen&page=\"\n",
    "    products = scrape_at_url(baseURL+str(i))\n",
    "    export_to_file(products)\n",
    "close_files()"
   ]
  },
  {
   "cell_type": "markdown",
   "metadata": {},
   "source": [
    "##### Extracting fields\n",
    "-'id' -'name' -'url_key' -'seller_id' -'seller_name' -'brand_id' -'brand_name' -'price' -'visible_impression_info''amplitude''seller_type' -'visible_impression_info''amplitude''all_time_quantity_sold'\n",
    "\n",
    "##### Aggregate object\n",
    "-sold_quantity -total_sale -"
   ]
  },
  {
   "cell_type": "code",
   "execution_count": 6,
   "metadata": {},
   "outputs": [],
   "source": [
    "#! CLEANSE DATA\n",
    "#: filter out product with `nivea`, `men`, `nam`\n",
    "#: create a aggregate object"
   ]
  }
 ],
 "metadata": {
  "kernelspec": {
   "display_name": "screnv",
   "language": "python",
   "name": "python3"
  },
  "language_info": {
   "codemirror_mode": {
    "name": "ipython",
    "version": 3
   },
   "file_extension": ".py",
   "mimetype": "text/x-python",
   "name": "python",
   "nbconvert_exporter": "python",
   "pygments_lexer": "ipython3",
   "version": "3.11.4"
  }
 },
 "nbformat": 4,
 "nbformat_minor": 2
}

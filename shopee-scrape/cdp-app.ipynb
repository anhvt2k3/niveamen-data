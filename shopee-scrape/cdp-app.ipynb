{
 "cells": [
  {
   "cell_type": "markdown",
   "metadata": {},
   "source": [
    "Start Chrome from the command line with a CDP port. Open a terminal and run:\n",
    "\n",
    "    \"C:\\Program Files\\Google\\Chrome\\Application\\chrome\" --remote-debugging-port=9222 --user-data-dir=\"D:\\Desktop\\Nivea-Assignment\\shopee-scrape\\browserData\"\n",
    "\n",
    "Check for the WebSocket\n",
    "\n",
    "    http://127.0.0.1:9222/json/version"
   ]
  },
  {
   "cell_type": "code",
   "execution_count": 1,
   "metadata": {},
   "outputs": [
    {
     "name": "stdout",
     "output_type": "stream",
     "text": [
      "Connected to browser over CDP.\n",
      "This will go nowhere\n"
     ]
    }
   ],
   "source": [
    "from playwright.async_api import async_playwright, CDPSession\n",
    "from playwright_stealth import stealth_async\n",
    "import requests\n",
    "import time\n",
    "\n",
    "p = await async_playwright().start()\n",
    "\n",
    "# # app 1\n",
    "def existing_browser():\n",
    "    ws_url = \"ws://127.0.0.1:9222/devtools/browser/2f2d448f-382d-4cce-9a33-32798f70dc83\"\n",
    "    return ws_url\n",
    "\n",
    "# # app 3\n",
    "def subprocess_browser():\n",
    "    import subprocess\n",
    "\n",
    "    chrome_exe_path = \"C:\\\\Program Files\\\\Google\\\\Chrome\\\\Application\\\\chrome.exe\"\n",
    "    browser_data_dir = \"D:\\\\Desktop\\\\Nivea-Assignment\\\\shopee-scrape\\\\browserData\"\n",
    "    \n",
    "    process = subprocess.Popen([\n",
    "        chrome_exe_path,\n",
    "        \"--remote-debugging-port=9222\",\n",
    "        f\"--user-data-dir={browser_data_dir}\",\n",
    "    ])\n",
    "    time.sleep(5)\n",
    "    class KillProcess:\n",
    "        def run():\n",
    "            process.terminate()\n",
    "            process.wait()\n",
    "    ws_data = requests.get(\"http://localhost:9222/json/version\").json()\n",
    "    ws_url = ws_data[\"webSocketDebuggerUrl\"]\n",
    "        \n",
    "    return ws_url, KillProcess\n",
    "    \n",
    "# # app 2\n",
    "async def playwright_browser():\n",
    "    chrome_exe_path = \"C:\\\\Program Files\\\\Google\\\\Chrome\\\\Application\\\\chrome.exe\"\n",
    "    browser_data_dir = \"D:\\\\Desktop\\\\Nivea-Assignment\\\\shopee-scrape\\\\browserData\"\n",
    "    await p.chromium.launch_persistent_context(\n",
    "                executable_path=chrome_exe_path,\n",
    "                user_data_dir=browser_data_dir,\n",
    "                headless=False,\n",
    "                args=[\n",
    "                    \"--remote-debugging-port=9222\",\n",
    "                ]\n",
    "            )\n",
    "    ws_data = requests.get(\"http://localhost:9222/json/version\").json()\n",
    "    ws_url = ws_data[\"webSocketDebuggerUrl\"]\n",
    "    return ws_url\n",
    "    \n",
    "ws_url, terminator = subprocess_browser()\n",
    "\n",
    "browser = await p.chromium.connect_over_cdp(ws_url)\n",
    "context = browser.contexts[0]\n",
    "page = context.pages[0]\n",
    "# await stealth_async(page) #! Actually make the browser more detectable\n",
    "\n",
    "globs = {\n",
    "    \"session\": [],\n",
    "    \"cmds\": [],\n",
    "    \"dataIds\": [],\n",
    "    }\n",
    "\n",
    "def gwrap_session(session : CDPSession):\n",
    "    globs['session'].append(session)\n",
    "    \n",
    "def gwrap_(func):\n",
    "    globs['cmds'].append(func)\n",
    "\n",
    "print(\"Connected to browser over CDP.\")\n",
    "\n",
    "\n",
    "# Enable the Network domaine\n",
    "gwrap_session( session := await context.new_cdp_session(page) )\n",
    "gwrap_( await session.send(\"Network.enable\") )\n",
    "\n",
    "\n",
    "# Change monitor source\n",
    "\n",
    "import sys\n",
    "errors = open(\"errors.log\", \"a\")\n",
    "sys.stderr = errors\n",
    "\n",
    "print(\"This will go nowhere\")"
   ]
  },
  {
   "cell_type": "markdown",
   "metadata": {},
   "source": [
    "### UI Interactive flow\n",
    "\n",
    "- Navigate to Target site\n",
    "- Perform human validation (if needed)\n",
    "- Set a listener on Ajax repsonse\n",
    "- Interact with the site to go invoke Ajax retrieval\n",
    "- Repeat up to a limit"
   ]
  },
  {
   "cell_type": "code",
   "execution_count": 7,
   "metadata": {},
   "outputs": [],
   "source": [
    "import json\n",
    "TERM = 'search_item'\n",
    "\n",
    "def clear_listeners(event):\n",
    "    del session._impl_obj._events[event]\n",
    "    with open(\"URL.log\", \"a\") as f:\n",
    "        f.write(f\"Listeners cleared for {event}\\n\")\n",
    "    return session._impl_obj._events.get(event, None)\n",
    "\n",
    "def calculate_page_number(url):\n",
    "    import re\n",
    "    newest_match = re.search(r'newest=(\\d+)', url)\n",
    "    limit_match = re.search(r'limit=(\\d+)', url)\n",
    "    if not newest_match or not limit_match:\n",
    "        return None\n",
    "    newest = int(newest_match.group(1))\n",
    "    limit = int(limit_match.group(1))\n",
    "    page_number = newest / limit + 1\n",
    "    return page_number\n",
    "\n",
    "async def collect_data(repsonse):\n",
    "    with open(\"URL.log\", \"a\") as ff:\n",
    "        ff.write(f\"\\nCollecting data on: {repsonse['requestId']}\\n\\n\")\n",
    "        pg_num = calculate_page_number(repsonse['response']['url'])\n",
    "        time.sleep(2)\n",
    "        with open(f\"data/page_{int(pg_num)}.json\", \"w\", encoding='utf-8') as f:\n",
    "            for i in range(5):\n",
    "                ff.write(f\"Attempt Collecting: {i+1} at requestId: {repsonse['requestId']}\")    \n",
    "                # print(f\"Attempt Collecting: {i+1} at requestId: {repsonse['requestId']}\")    \n",
    "                result = await session.send(\"Network.getResponseBody\", { \"requestId\": repsonse['requestId'] })\n",
    "                if result: break\n",
    "            # f.write(f\"\\nRequestID: {repsonse['requestId']}\\nResponse: {result['body']}\\n\\n\") #? Content data tested and writable\n",
    "            body = json.loads(result['body'])\n",
    "            f.write(json.dumps(body, indent=4))\n",
    "    return True\n",
    "\n",
    "async def upon_response_received(response):\n",
    "    url = response[\"response\"][\"url\"]\n",
    "    requestId = response['requestId']\n",
    "    \n",
    "    with open(\"URL.log\", \"a\") as f:\n",
    "        f.write(f\"Network.responseReceived: {requestId}\\nURL: {url}\\n\")\n",
    "        if TERM in url:    \n",
    "            f.write(f'\\nSearch_Item Response\\nRequestID: {requestId}\\nURL: {url}\\n\\n')\n",
    "            globs['dataIds'].append(requestId)\n",
    "            await collect_data(response)\n",
    "            return True\n",
    "    return False\n",
    "\n",
    "# gwrap_( session.on(\"Network.requestWillBeSent\", upon_response) )\n",
    "# gwrap_( session.on(\"Network.loadingFinished\", collect_data_then_mute) )\n",
    "gwrap_( session.on(\"Network.responseReceived\", upon_response_received) )"
   ]
  },
  {
   "cell_type": "code",
   "execution_count": 8,
   "metadata": {},
   "outputs": [
    {
     "name": "stdout",
     "output_type": "stream",
     "text": [
      "Network.responseReceived listeners=1 [<function ImplToApiMapping.wrap_handler.<locals>.wrapper_func at 0x000001C540ACFC40>]\n"
     ]
    },
    {
     "data": {
      "text/plain": [
       "[None]"
      ]
     },
     "execution_count": 8,
     "metadata": {},
     "output_type": "execute_result"
    }
   ],
   "source": [
    "# Check for session listeners and Get rid of listeners explicitly\n",
    "# clear_listeners(\"Network.loadingFinished\")\n",
    "# clear_listeners(\"Network.requestWillBeSent\")\n",
    "\n",
    "# clear_listeners(\"Network.responseReceived\")\n",
    "[ print ( i, f'listeners={len(j)}', [item for item in j] ) for i,j in session._impl_obj._events.items() ]"
   ]
  },
  {
   "cell_type": "code",
   "execution_count": null,
   "metadata": {},
   "outputs": [],
   "source": [
    "# test getResponseBody\n",
    "requestId = \"18280.1308\"\n",
    "result = await session.send(\"Network.getResponseBody\", { \"requestId\": requestId })\n",
    "with open(\"response.log\", \"a\", encoding='utf-8') as f:\n",
    "    f.write(f\"\\nRequestID: {requestId}\\nResponse: {result['body']}\\n\") #? Content data tested and writable"
   ]
  },
  {
   "cell_type": "code",
   "execution_count": 9,
   "metadata": {},
   "outputs": [],
   "source": [
    "# Click the buttons\n",
    "for i in range(10):\n",
    "    # Use CDP to execute the script within the page context\n",
    "    result = await session.send(\"Runtime.evaluate\", {\n",
    "        \"expression\": \"\"\"document.getElementsByClassName(\"shopee-button-outline shopee-mini-page-controller__next-btn\")[0].click()\"\"\",\n",
    "        \"returnByValue\": True\n",
    "    })\n",
    "    time.sleep(5.264)\n",
    "    with open(\"URL.log\", \"a\") as f:\n",
    "        f.write(f\"Clicking Next Button: {i+1}\\n\")"
   ]
  },
  {
   "cell_type": "code",
   "execution_count": null,
   "metadata": {},
   "outputs": [],
   "source": [
    "async def data_retrieval():\n",
    "    for id, i in zip(globs['dataIds'], range(len(globs['dataIds']))):\n",
    "        result = await session.send(\"Network.getResponseBody\", {\n",
    "            \"requestId\": id\n",
    "        })\n",
    "        with open(f\"data/page_{i}.json\", \"w\") as f:\n",
    "            f.write(result[\"body\"])"
   ]
  },
  {
   "cell_type": "code",
   "execution_count": 10,
   "metadata": {},
   "outputs": [
    {
     "name": "stdout",
     "output_type": "stream",
     "text": [
      "Session detached.\n",
      "Browser closed and Playwright stopped.\n"
     ]
    }
   ],
   "source": [
    "# Close Browser and Playwright\n",
    "if session: \n",
    "    await session.detach()\n",
    "    print (\"Session detached.\")\n",
    "await browser.close()\n",
    "await p.stop()\n",
    "terminator.run()\n",
    "print(\"Browser closed and Playwright stopped.\")\n",
    "\n",
    "# Revert monitor settings\n",
    "sys.stderr = sys.__stderr__\n",
    "\n",
    "# Close the file\n",
    "errors.close()"
   ]
  },
  {
   "cell_type": "markdown",
   "metadata": {},
   "source": [
    "# Utility"
   ]
  },
  {
   "cell_type": "code",
   "execution_count": null,
   "metadata": {},
   "outputs": [],
   "source": [
    "# Detach session to get rid of listeners and create new session\n",
    "async def recreate_session():\n",
    "    gwrap_( session.send(\"Network.disable\") )\n",
    "    gwrap_( session.detach() )\n",
    "    gwrap_session(session := await context.new_cdp_session(context.pages[0]) )\n",
    "    gwrap_( await session.send(\"Network.enable\") )\n",
    "\n",
    "# recreate_session()\n",
    "#* not working at all\n",
    "# gwrap_( session.remove_listener(\"Network.responseReceived\", upon_response) )"
   ]
  },
  {
   "cell_type": "code",
   "execution_count": null,
   "metadata": {},
   "outputs": [],
   "source": [
    "# TESTING STEALTH MODE\n",
    "page = await browser.new_page()\n",
    "stealth_async(page)  # Apply stealth mode\n",
    "print(\"Stealth techniques applied to the first page.\")\n",
    "\n",
    "page.goto(\"https://arh.antoinevastel.com/bots/areyouheadless\")\n",
    "message_element = page.locator(\"#res\")\n",
    "message = message_element.text_content()\n",
    "print(f'The result is: \"{message}\"')"
   ]
  }
 ],
 "metadata": {
  "kernelspec": {
   "display_name": "screnv",
   "language": "python",
   "name": "python3"
  },
  "language_info": {
   "codemirror_mode": {
    "name": "ipython",
    "version": 3
   },
   "file_extension": ".py",
   "mimetype": "text/x-python",
   "name": "python",
   "nbconvert_exporter": "python",
   "pygments_lexer": "ipython3",
   "version": "3.11.4"
  }
 },
 "nbformat": 4,
 "nbformat_minor": 2
}

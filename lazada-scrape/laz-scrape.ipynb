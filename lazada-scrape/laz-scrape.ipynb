{
 "cells": [
  {
   "cell_type": "code",
   "execution_count": 1,
   "metadata": {},
   "outputs": [],
   "source": [
    "import requests\n",
    "from pydantic import BaseModel\n",
    "from datetime import datetime\n",
    "from typing import Optional\n",
    "\n",
    "class RawProduct(BaseModel):\n",
    "    platform: str = 'lazada'\n",
    "    id: int | None\n",
    "    name: str | None\n",
    "    sale: int | None\n",
    "    price: float | None\n",
    "    shop_name: str | None\n",
    "    shop_id: int | None\n",
    "    unite_id: int = None\n",
    "    brand_name: str | None\n",
    "    timestamp: float | None"
   ]
  },
  {
   "cell_type": "code",
   "execution_count": 2,
   "metadata": {},
   "outputs": [],
   "source": [
    "#! SETUP SESSION\n",
    "\n",
    "session = requests.Session()\n",
    "session.headers.update(\n",
    "    {\n",
    "'accept' : 'text/html,application/xhtml+xml,application/xml;q=0.9,image/avif,image/webp,image/apng,*/*;q=0.8,application/signed-exchange;v=b3;q=0.7accept-encoding:gzip, deflate, br, zstd',\n",
    "'accept-language' : 'en-US,en;q=0.9,vi-VN;q=0.8,vi;q=0.7,fr;q=0.6',\n",
    "'cache-control' : 'max-age=0',\n",
    "'cookie' : '__wpkreporterwid_=7903ab38-a37e-4bd1-3e4d-754b08aa6aa2; t_fv=1712907513034; cna=yWlcGoi2CwoCAav2pFwqlBA/; t_uid=hoAxVQS1N94xbtv1t0dyOJLHLHTzj8jG; lzd_cid=2b98fd81-aa14-4383-aeea-8fad520b17bb; lzd_sid=1da8e97d7723ddc40ddd8a24a66f072d; _tb_token_=5bbb65d357837; hng=VN|en|VND|704; userLanguageML=en; lwrid=AgGSt9B0ezjMvtPC29IjX39uI3lp; __itrace_wid=3c44d04f-2350-4570-a2a5-cfb61d71dd3c; xlly_s=1; t_sid=jyq0IOJpKm7Kp8nzuVM6X7kbeleUi7Xv; utm_channel=NA; _m_h5_tk=1c274dad2642e4f5414fdfdf0460391a_1730210417710; _m_h5_tk_enc=7cb75c2cb2c6e18e7a1427b1b6313424; lwrtk=AAEEZyE+0FMgGEt7rc6JVG6F7EECP8EqoE3OyqGYxfSazrgSka0MGOo=; x5sec=7b22617365727665722d6c617a6164613b33223a22617c434e476367376b47454f7942784d4c362f2f2f2f2f77456943584a6c5932467764474e6f595444327a7433362f2f2f2f2f2f3842536c49774e4442685a6d59774d4441774d4441774d4441774d4441774d4441774d4441774d4441774d4441774d4441774d4445774d4441774d4441774d4441774d4451334d5745784d6a646b4d5451304e5756684f574e6b5a574978596a426b4f4749774d4441774d4441774d444178222c22733b32223a2231373736656332356530613666653936227d; isg=BLW1YxhjPlRx2V_W9lr1nv6OxDFvMmlEd7jkVTfacSx7DtUA_4J5FMOIWMo4ToH8; epssw=7*ZKzss6peg64hC28vssss6uoLSTOOnIeTs6K3ouTkyVrzWojK0iXk3ZFjrZBLsssds3ss6Gaahsssssss7BDjkE3zGEj15YbuuNPO22LT-sudPvRHT21FswbgrkDww1WIQZwHJnnOrq3PfIDz_q1SfPoHz2Vai9vkKyGBvEaU26KR3fsDCWoJEdqLOXbd3OMOCTNtBEEdOSA-vp1suuxP-auOusIbqiCxKlye3s6Z37DaCSNC1TOkN4iHHEIc4v2POXjhCo2b-aZm4lSDDG25Wv5h3RrbuaSb3PrwYs..; tfstk=fnv2JV670xHVFzgbOZWNYyIm53BAI93I_d_1jhxGcZb0h-aMaULafm3tMQPMzapjDNGxbF8hyF5tDN_G7FtMG0MIdnKABOYZRvMCE8s1pK7g5OAQEYe-R2MIFjqlQquBlA5pyisOrijGmZmzqG7uiRYGo_4lYMBGSEJlzqkEisVwfaAshnmygmKGzR2ayi5c-vQzIRvP037HmfegILSVidTg3ijPGCxd9KTKQ8BXYQXlAnH4U9xcYE_W-v2PE3tk56d-WJ6Xzd5ensqgi3JNu6vcalo6Y3SMS1R-8JsVhQ5e3InTrnYCuBXvfkuX46RP9gfubSjylPIlKLp9gPVNigIPR0or9coafQenO0VT6sQP4wi0U5FOigIPR0oz65CAzg7Imvf..',\n",
    "'priority' : 'u=0, i',\n",
    "'referer' : 'https://www.lazada.vn//catalog//_____tmd_____/punish?x5secdata=xcNgyRoaA9aH2ZqadTH1znrVJro3Gv9kK3%2fGQcmrTxG92KCZxOHmtn6vs%2fpTmA2sXwkIUwcWJSofIV%2fjW4ELPNECdHEHRpqnzdJ3Rv2xzTPPsl7OWG99OsI5lp6hFK2p2%2fY1Tz%2bVy%2bbtkLQXCE7FbGrh4d41mYUqFwt0VtaEE7NX4OBWgjDkuiwWfnBtkGLTqpueglmy3e%2b7JcapamdehusFZ4xphKeSo2uYRcjdIzCfMEzpdnD9uQFzpiB%2fx2ry97A5e2Ly9hiy%2bElnz3QQWqT%2bJ1W%2fRcEvfMPSo8N%2fcbpLuhetCkmLcfbQHSY8Hnwpil1worFz4tOKEG6BskaXjvNg%3d%3d__bx__www.lazada.vn%2fcatalog%2f&x5step=1',\n",
    "'sec-ch-ua' : '\"Google Chrome\";v=\"129\", \"Not=A?Brand\";v=\"8\", \"Chromium\";v=\"129\"',\n",
    "'sec-ch-ua-mobile' : '?0',\n",
    "'sec-ch-ua-platform' : '\"Windows\"',\n",
    "'sec-fetch-dest' : 'document',\n",
    "'sec-fetch-mode' : 'navigate',\n",
    "'sec-fetch-site' : 'same-origin',\n",
    "'sec-fetch-user' : '?1',\n",
    "'upgrade-insecure-requests' : '1',\n",
    "'user-agent' : 'Mozilla/5.0 (Windows NT 10.0; Win64; x64) AppleWebKit/537.36 (KHTML, like Gecko) Chrome/129.0.0.0 Safari/537.36',\n",
    "    })"
   ]
  },
  {
   "cell_type": "code",
   "execution_count": 3,
   "metadata": {},
   "outputs": [],
   "source": [
    "#! DEFINING SCRAPING FUNCTIONS\n",
    "import json\n",
    "import csv\n",
    "\n",
    "fout = open('data.csv', mode='w', errors=\"ignore\",newline='')\n",
    "writer = csv.DictWriter(fout, RawProduct.model_fields)\n",
    "log = open('data.json', mode='w+')\n",
    "\n",
    "def init_data():\n",
    "    writer.writeheader()\n",
    "    \n",
    "def append_to_log(data):\n",
    "    log.write(log.read() + json.dumps(data, indent=4))\n",
    "\n",
    "def convert_sold_count(sold_count_str):\n",
    "    # Remove the \"sold\" part and strip any extra spaces\n",
    "    count_str = sold_count_str.replace(\" sold\", \"\").strip()\n",
    "\n",
    "    # Check for \"K\" or \"M\" and convert to integer accordingly\n",
    "    if \"K\" in count_str:\n",
    "        return int(float(count_str.replace(\"K\", \"\")) * 1000)\n",
    "    elif \"M\" in count_str:\n",
    "        return int(float(count_str.replace(\"M\", \"\")) * 1_000_000)\n",
    "    else:\n",
    "        return int(count_str)  # No suffix, so just convert directly to int\n",
    "\n",
    "def scrape_at_url(url):\n",
    "    response = session.get(url=url)\n",
    "    json_content = json.loads(response.content.decode(errors='ignore'))\n",
    "    append_to_log(json_content)\n",
    "    products = json_content['mods']['listItems']\n",
    "    products_ = []\n",
    "    try:\n",
    "        for product in products:\n",
    "            products_ += [RawProduct(\n",
    "                id=product.get('itemId', 0),\n",
    "                name=product.get('itemUrl', '').split('/')[4] if product.get('itemUrl') else 'NaN',\n",
    "                sale=convert_sold_count(product.get('itemSoldCntShow', '0 sold')),\n",
    "                price=product.get('price', 0),\n",
    "                # unite_id=None,\n",
    "                shop_name=product.get('sellerName', 'NaN'),\n",
    "                shop_id=product.get('sellerId', 0),\n",
    "                brand_name=product.get('brandName', 'NaN'),\n",
    "                timestamp=datetime.now().timestamp()\n",
    "                        ).model_dump()]\n",
    "    except Exception as e :\n",
    "        print (product)\n",
    "        print (str(e))\n",
    "        return []\n",
    "    return products_\n",
    "    \n",
    "def export_to_file(products: list[dict[str, any]]):\n",
    "    writer.writerows(products)\n",
    "    \n",
    "def close_files():\n",
    "    log.close()\n",
    "    fout.close()\n",
    "    \n",
    "init_data()"
   ]
  },
  {
   "cell_type": "code",
   "execution_count": 4,
   "metadata": {},
   "outputs": [],
   "source": [
    "# baseURL = 'https://www.lazada.vn/catalog/?ajax=true&isFirstRequest=true&page=1&q=nivea%20men&spm=a2o4n.homepage.search.d_go'\n",
    "# response = session.get(baseURL)\n",
    "# append_to_log(json.loads(response.content.decode()))\n",
    "# close_files()"
   ]
  },
  {
   "cell_type": "code",
   "execution_count": 5,
   "metadata": {},
   "outputs": [],
   "source": [
    "# baseURL = \"https://tiki.vn/api/v2/products?limit=40&aggregations=2&trackity_id=55e38373-3402-501c-3da5-7a4f96edd60d&q=niveamen&page=\"\n",
    "# response = session.get(baseURL+str(1))\n",
    "\n",
    "# prods = scrape_at_url(baseURL+str(1))"
   ]
  },
  {
   "cell_type": "code",
   "execution_count": 6,
   "metadata": {},
   "outputs": [],
   "source": [
    "#! GO SCRAPING\n",
    "\n",
    "import time \n",
    "import random\n",
    "\n",
    "products = []\n",
    "random_seconds = (2.133, 1.5151, 1, 1.1111, 2.21, 1.1212)\n",
    "for i in range(1,40):\n",
    "    baseURL = 'https://www.lazada.vn/catalog/?ajax=true&isFirstRequest=true&q=nivea%20men&spm=a2o4n.homepage.search.d_go&page='\n",
    "    products = scrape_at_url(baseURL+str(i))\n",
    "    export_to_file(products)\n",
    "    time.sleep(random.choice(random_seconds))\n",
    "        \n",
    "close_files()"
   ]
  },
  {
   "cell_type": "markdown",
   "metadata": {},
   "source": [
    "##### Fields conversion\n",
    "products = 'mods' 'listItems'\n",
    "product:\n",
    "    * id = 'itemId'\n",
    "    * name = 'itemUrl'.split('/')[4]\n",
    "    * sale = convert_sold_count('itemSoldCntShow')\n",
    "    * price = 'price'\n",
    "    * shop_name = 'sellerName'\n",
    "    * shop_id = 'sellerId'\n",
    "    * unite_id = None\n",
    "    * brand_name = 'brandName'\n",
    "    * timestamp\n",
    "\n",
    "##### Aggregate object\n",
    "-sold_quantity -total_sale -"
   ]
  },
  {
   "cell_type": "code",
   "execution_count": 7,
   "metadata": {},
   "outputs": [],
   "source": [
    "#! CLEANSE DATA\n",
    "#: filter out product with `nivea`, `men`, `nam`\n",
    "#: create a aggregate object"
   ]
  }
 ],
 "metadata": {
  "kernelspec": {
   "display_name": "screnv",
   "language": "python",
   "name": "python3"
  },
  "language_info": {
   "codemirror_mode": {
    "name": "ipython",
    "version": 3
   },
   "file_extension": ".py",
   "mimetype": "text/x-python",
   "name": "python",
   "nbconvert_exporter": "python",
   "pygments_lexer": "ipython3",
   "version": "3.11.4"
  }
 },
 "nbformat": 4,
 "nbformat_minor": 2
}
